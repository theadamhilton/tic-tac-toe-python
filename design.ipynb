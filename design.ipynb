{
 "cells": [
  {
   "cell_type": "markdown",
   "id": "bfd2d33e-b20f-467c-b924-29922442b081",
   "metadata": {},
   "source": [
    "## First Principles Thinking\n",
    "1. Identify and state the traditional assumption of something\n",
    "2. Deconstruction: Break a problem or concept into its simplest components, \n",
    "stripping away assumptions and preconceived notions\n",
    "3. Fundamental Truths: Identify what is undeniably true about the components-\n",
    "these are the \"first principles\"\n",
    "4. Reconstruction: Use these first principles as the building blocks to create \n",
    "innovative solutions or make better decisions'''\n",
    "\n",
    "### Example:\n",
    "Let's apply first principles thinking to building an electric car:\n",
    "- Traditional Assumption: \"Batteries are expensive, so electric cars will always \n",
    "be costly.\"\n",
    "- Deconstruction: What makes batteries expensive? Their materials (e.g., cobalt, lithium) \n",
    "and manufacturing processes\n",
    "- Fundamental Truths: Batteries store energy through chemical reactions, and alternative \n",
    "materials or methods might achieve the same goal.\n",
    "- Reconstruction: This leads to exploring new technologies like solid-state batteries or \n",
    "reducing reliance on rare materials, which can make electric cars cheaper and more efficient'''\n",
    "\n",
    "### Tic-Tac-Toe:\n",
    "- **Traditional Assumption**: \"Well, if I want to make Tic-Tac-Toe then I'll need a 3 x 3 board \n",
    "of some sort.\"\n",
    "- **Deconstruction**: How does Tic-Tac-Toe work? With logic or algorithms\n",
    "- **Fundamental Truths**: Players take turns placing their 3 allotted marks (X or O) in a \n",
    "continuous line, vertically, horizontally, or diagonally\n",
    "- **Reconstruction**: Using algorithms with best practices, we can identify the turn player, \n",
    "control the state of the game and determine a winner or tie result"
   ]
  },
  {
   "cell_type": "code",
   "execution_count": 16,
   "id": "79facfd3-45db-4fca-b4ec-3591eb7e1abd",
   "metadata": {},
   "outputs": [
    {
     "ename": "NameError",
     "evalue": "name 'new_board' is not defined",
     "output_type": "error",
     "traceback": [
      "\u001b[1;31m---------------------------------------------------------------------------\u001b[0m",
      "\u001b[1;31mNameError\u001b[0m                                 Traceback (most recent call last)",
      "Cell \u001b[1;32mIn[16], line 2\u001b[0m\n\u001b[0;32m      1\u001b[0m \u001b[38;5;66;03m# Create a copy of the traditional assumption\u001b[39;00m\n\u001b[1;32m----> 2\u001b[0m board \u001b[38;5;241m=\u001b[39m \u001b[43mnew_board\u001b[49m()\n\u001b[0;32m      4\u001b[0m \u001b[38;5;66;03m# Loop through turns until the game is over\u001b[39;00m\n\u001b[0;32m      5\u001b[0m \u001b[38;5;28;01mdef\u001b[39;00m\u001b[38;5;250m \u001b[39m\u001b[38;5;21mloopForever\u001b[39m():\n\u001b[0;32m      6\u001b[0m   \u001b[38;5;66;03m# TODO: hmm I'm not sure how best to do this\u001b[39;00m\n\u001b[0;32m      7\u001b[0m   \u001b[38;5;66;03m# right now. No problem, I'll come back later.\u001b[39;00m\n",
      "\u001b[1;31mNameError\u001b[0m: name 'new_board' is not defined"
     ]
    }
   ],
   "source": [
    "# Create a copy of the traditional assumption\n",
    "board = new_board()\n",
    "\n",
    "# Loop through turns until the game is over\n",
    "def loopForever():\n",
    "  # TODO: hmm I'm not sure how best to do this\n",
    "  # right now. No problem, I'll come back later.\n",
    "  current_player = '???'\n",
    "  pass\n",
    "\n",
    "# Print the current state of the board\n",
    "render(board)\n",
    "\n",
    "# Get the move that the current player is going\n",
    "# to make.\n",
    "move_coords = get_move()\n",
    "\n",
    "# Make the move that we calculated above\n",
    "make_move(board, move_co_ords, current_player)\n",
    "\n",
    "# Work out if there's a winner\n",
    "winner = get_winner(board)\n",
    "\n",
    "# If there is a winner, crown them the champion\n",
    "# and exit the loop.\n",
    "if winner is not None:\n",
    "    print(\"WINNER IS %s!!\" % winner)\n",
    "    # break\n",
    "\n",
    "# If there is no winner and the board is full,\n",
    "# exit the loop.\n",
    "if is_board_full(board):\n",
    "    print(\"IT'S A DRAW!!\")\n",
    "    # break\n",
    "\n",
    "# Repeat until the game is over"
   ]
  },
  {
   "cell_type": "markdown",
   "id": "d9a451d6-ef69-48d6-98da-93d6b5e533b9",
   "metadata": {},
   "source": [
    "There are about 6 main components or functions in our pseudo-code which will serve as **\"milestones\"** \n",
    "or checkpoints. We will run code frequently; at an absolute minimum once \n",
    "everytime we complete a milestone to easily locate bugs and destroy them:\n",
    "- new_board\n",
    "- render\n",
    "- get_move\n",
    "- make_move\n",
    "- get_winner\n",
    "- is_board_full"
   ]
  },
  {
   "cell_type": "code",
   "execution_count": null,
   "id": "91969627-4638-48f7-81a7-cba0f4cc3a88",
   "metadata": {},
   "outputs": [],
   "source": []
  }
 ],
 "metadata": {
  "kernelspec": {
   "display_name": "Python 3.12.9 (myenv)",
   "language": "python",
   "name": "myenv"
  },
  "language_info": {
   "codemirror_mode": {
    "name": "ipython",
    "version": 3
   },
   "file_extension": ".py",
   "mimetype": "text/x-python",
   "name": "python",
   "nbconvert_exporter": "python",
   "pygments_lexer": "ipython3",
   "version": "3.12.9"
  }
 },
 "nbformat": 4,
 "nbformat_minor": 5
}
